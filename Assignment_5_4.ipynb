{
  "nbformat": 4,
  "nbformat_minor": 0,
  "metadata": {
    "colab": {
      "provenance": []
    },
    "kernelspec": {
      "name": "python3",
      "display_name": "Python 3"
    },
    "language_info": {
      "name": "python"
    }
  },
  "cells": [
    {
      "cell_type": "code",
      "execution_count": null,
      "metadata": {
        "id": "EvYFnTU8OjMa"
      },
      "outputs": [],
      "source": []
    },
    {
      "cell_type": "markdown",
      "source": [
        "Question 1\n",
        "\n"
      ],
      "metadata": {
        "id": "Xtoyb-3OOpDJ"
      }
    },
    {
      "cell_type": "markdown",
      "source": [
        "Multiprocessing in Python allows concurrent execution of tasks across multiple processes, leveraging multiple CPU cores for improved performance and scalability"
      ],
      "metadata": {
        "id": "Rb31SfX0PGXL"
      }
    },
    {
      "cell_type": "markdown",
      "source": [
        "Question 2"
      ],
      "metadata": {
        "id": "Qe5upk7yOtWT"
      }
    },
    {
      "cell_type": "markdown",
      "source": [
        "Multiprocessing involves running separate processes with their own memory space, making it suitable for CPU-bound tasks and ensuring better isolation, while multithreading shares the same memory space among multiple threads, making it suitable for I/O-bound tasks and potentially leading to more complex synchronization issues"
      ],
      "metadata": {
        "id": "l775JGA7PICN"
      }
    },
    {
      "cell_type": "markdown",
      "source": [
        "Question 3"
      ],
      "metadata": {
        "id": "X_M49aGEOvHF"
      }
    },
    {
      "cell_type": "code",
      "source": [
        "import multiprocessing\n",
        "\n",
        "def worker_function():\n",
        "    print(\"Worker process is executing.\")\n",
        "\n",
        "if __name__ == \"__main__\":\n",
        "    # Create a process\n",
        "    process = multiprocessing.Process(target=worker_function)\n",
        "\n",
        "    # Start the process\n",
        "    process.start()\n",
        "\n",
        "    # Wait for the process to finish\n",
        "    process.join()\n"
      ],
      "metadata": {
        "id": "mnSdCFzrPY7D"
      },
      "execution_count": null,
      "outputs": []
    },
    {
      "cell_type": "markdown",
      "source": [
        "question 4"
      ],
      "metadata": {
        "id": "RNmiOoutOxHJ"
      }
    },
    {
      "cell_type": "markdown",
      "source": [
        "A multiprocessing pool in Python allows for concurrent execution of tasks across multiple processes, typically used for parallelizing tasks that can be divided into independent units of work, effectively utilizing multiple CPU cores for improved performance. It abstracts away the complexity of managing individual processes and provides a convenient interface for distributing tasks and collecting results asynchronously."
      ],
      "metadata": {
        "id": "tfIKv8GRPldJ"
      }
    },
    {
      "cell_type": "markdown",
      "source": [
        "Question 5"
      ],
      "metadata": {
        "id": "_tTr9ISqOzSy"
      }
    },
    {
      "cell_type": "code",
      "source": [
        "import multiprocessing\n",
        "\n",
        "def worker_function(x):\n",
        "    return x * x\n",
        "\n",
        "if __name__ == \"__main__\":\n",
        "    pool = multiprocessing.Pool()\n",
        "    results = pool.map(worker_function, range(10))\n",
        "    pool.close()\n",
        "    pool.join()\n",
        "\n",
        "    print(results)\n"
      ],
      "metadata": {
        "id": "ZlNiWoVsPth0"
      },
      "execution_count": null,
      "outputs": []
    },
    {
      "cell_type": "markdown",
      "source": [
        "Question 6"
      ],
      "metadata": {
        "id": "Z7Nym2WVO08y"
      }
    },
    {
      "cell_type": "code",
      "source": [
        "import multiprocessing\n",
        "\n",
        "def print_number(number):\n",
        "    print(number)\n",
        "\n",
        "if __name__ == \"__main__\":\n",
        "\n",
        "    numbers = [1, 2, 3, 4]\n",
        "\n",
        "    processes = []\n",
        "\n",
        "\n",
        "    for num in numbers:\n",
        "        process = multiprocessing.Process(target=print_number, args=(num,))\n",
        "        processes.append(process)\n",
        "        process.start()\n",
        "\n",
        "\n",
        "    for process in processes:\n",
        "        process.join()\n",
        "\n"
      ],
      "metadata": {
        "id": "Pt-xddLBP2PZ"
      },
      "execution_count": null,
      "outputs": []
    },
    {
      "cell_type": "markdown",
      "source": [],
      "metadata": {
        "id": "-m0OiPyHO3hu"
      }
    }
  ]
}